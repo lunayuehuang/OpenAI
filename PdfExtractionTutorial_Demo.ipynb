{
 "cells": [
  {
   "cell_type": "code",
   "execution_count": null,
   "metadata": {},
   "outputs": [],
   "source": [
    "%pip install openai\n",
    "%pip install azure-ai-formrecognizer\n",
    "%pip install langchain\n",
    "%pip install pandas"
   ]
  },
  {
   "cell_type": "markdown",
   "metadata": {},
   "source": [
    "Import needed packages "
   ]
  },
  {
   "cell_type": "code",
   "execution_count": null,
   "metadata": {},
   "outputs": [],
   "source": [
    "import openai\n",
    "import requests\n",
    "import json\n",
    "import io\n",
    "import os\n",
    "import pandas as pd\n",
    "import math\n",
    "from azure.core.credentials import AzureKeyCredential\n",
    "from azure.ai.formrecognizer import FormRecognizerClient\n",
    "from azure.ai.formrecognizer import DocumentAnalysisClient\n",
    "import os\n",
    "from openai import AzureOpenAI"
   ]
  },
  {
   "cell_type": "code",
   "execution_count": null,
   "metadata": {},
   "outputs": [],
   "source": [
    "# extracts text from pdf\n",
    "def analyze_pdf_with_form_recognizer(endpoint, api_key, file_path):\n",
    "    credential = AzureKeyCredential(api_key)\n",
    "    document_analysis_client = DocumentAnalysisClient(\n",
    "    endpoint=endpoint, credential=AzureKeyCredential(api_key)\n",
    "    )\n",
    "\n",
    "    with open(file_path, \"rb\") as file:\n",
    "        poller = document_analysis_client.begin_analyze_document(\"prebuilt-layout\", file) #\"prebuild-layout\"is predefined Azure DocumentAnalysisClient ML Model \n",
    "        result = poller.result()\n",
    "\n",
    "    return result\n",
    "\n",
    "# Generate complete text from AnalyzeResult\n",
    "def complete_text_from_analyze_result(result):\n",
    "    complete_text = \"\"\n",
    "    for paragraph in result.paragraphs:\n",
    "        if paragraph.role != 'pageFooter' and paragraph.role != 'pageHeader':\n",
    "            recognized_text = paragraph.content\n",
    "            complete_text += recognized_text\n",
    "    return complete_text"
   ]
  },
  {
   "cell_type": "code",
   "execution_count": null,
   "metadata": {},
   "outputs": [],
   "source": [
    "# Azure Forms Recognition API endpoint and key\n",
    "endpoint = \"REPLACE_WITH_YOUR_OWN\" ##### here should be the endpoint of your azure subscription's OpenAI instance. \n",
    "api_key = \"REPLACE_WITH_YOUR_OWN\" ##### here you will need to modify to your OpenAI apikey, \n",
    "\n",
    "# Azure OpenAI info\n",
    "client = AzureOpenAI(\n",
    "  azure_endpoint = \"REPLACE_WITH_YOUR_OWN\",##### here should be the endpoint of your azure subscription's OpenAI instance. \n",
    "  api_key=\"REPLACE_WITH_YOUR_OWN\", ##### here you will need to modify to your OpenAI aipkey, \n",
    "  api_version=\"2023-05-15\" ##### you can choose another version, you might need to find the version name in the documentation. \n",
    ")\n",
    "\n",
    "# pdf_file_path = \"15.pdf\" ###### where you local pdf file you want to study, \n",
    "# result = analyze_pdf_with_form_recognizer(endpoint, api_key, pdf_file_path)\n",
    "# print(result)"
   ]
  },
  {
   "cell_type": "code",
   "execution_count": null,
   "metadata": {},
   "outputs": [],
   "source": [
    "def get_pdf_files(folder_path):\n",
    "    pdf_files = []\n",
    "    for file in os.listdir(folder_path):\n",
    "        if file.endswith(\".pdf\"):\n",
    "            pdf_files.append(os.path.join(folder_path, file))\n",
    "    return pdf_files\n"
   ]
  },
  {
   "cell_type": "code",
   "execution_count": null,
   "metadata": {},
   "outputs": [],
   "source": [
    "research_description = \"Analysis of materials for building efficient solar cells, and building an understanding of molecular structure on PCE values.\"\n",
    "\n",
    "main_prompt = f\"\"\"\n",
    "        You are a polymer scientist analyzing scientific papers. You want will give a relevance score between 0 and 1 to the provided scientific paper, with 0 meaning completely irrelevant and 1 being extremely relevant. \n",
    "         Relevance is based on whether the paper matches the following research topic: {research_description}.\n",
    "         In addition, you will provide a list of polymer names discussed in the paper. \n",
    "         You must give the response as a valid json structure, with 2 elements: score (which is going to be a double value between 0 and 1), and polymers (which is going to be an array of string containing the names of the polymers discussed in the paper).\n",
    "        \"\"\""
   ]
  },
  {
   "cell_type": "code",
   "execution_count": null,
   "metadata": {},
   "outputs": [],
   "source": [
    "papers_to_analyze = get_pdf_files(\"./PapersToAnalyze\")"
   ]
  },
  {
   "cell_type": "code",
   "execution_count": null,
   "metadata": {},
   "outputs": [],
   "source": [
    "papers_to_analyze"
   ]
  },
  {
   "cell_type": "code",
   "execution_count": null,
   "metadata": {},
   "outputs": [],
   "source": [
    "results = []\n",
    "\n",
    "for paper in papers_to_analyze:\n",
    "\n",
    "    # First read the pdf \n",
    "    fr_result = analyze_pdf_with_form_recognizer(endpoint, api_key, paper)\n",
    "    fulltext = complete_text_from_analyze_result(fr_result)\n",
    "\n",
    "    response = client.chat.completions.create(\n",
    "        model=\"REPLACE_WITH_YOUR_OWN\", # Name of your deployment on https://oai.azure.com/ \n",
    "        messages=[\n",
    "            {\"role\": \"system\", \"content\": main_prompt}, \n",
    "            {\"role\": \"user\", \"content\": f\"Here is the paper to analyze: {fulltext}\"},\n",
    "        ],\n",
    "        temperature = 0\n",
    "        )\n",
    "    \n",
    "    results.append({'fileName': os.path.basename(paper), 'score': response.choices[0].message})\n",
    "    print(os.path.basename(paper))\n",
    "    print(f\"Score: {response.choices[0].message.content}\")\n",
    "    print()\n",
    "    ###results_df = results_df.append({'fileName': os.path.basename(paper), 'score': response.choices[0].message}, ignore_index=True)\n",
    "    \n",
    "    \n"
   ]
  },
  {
   "cell_type": "code",
   "execution_count": null,
   "metadata": {},
   "outputs": [],
   "source": []
  }
 ],
 "metadata": {
  "kernelspec": {
   "display_name": "Python 3",
   "language": "python",
   "name": "python3"
  },
  "language_info": {
   "codemirror_mode": {
    "name": "ipython",
    "version": 3
   },
   "file_extension": ".py",
   "mimetype": "text/x-python",
   "name": "python",
   "nbconvert_exporter": "python",
   "pygments_lexer": "ipython3",
   "version": "3.12.3"
  }
 },
 "nbformat": 4,
 "nbformat_minor": 2
}
